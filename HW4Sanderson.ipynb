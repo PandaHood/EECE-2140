{
 "cells": [
  {
   "attachments": {},
   "cell_type": "markdown",
   "metadata": {},
   "source": [
    "Problem 1"
   ]
  },
  {
   "cell_type": "code",
   "execution_count": 157,
   "metadata": {},
   "outputs": [
    {
     "name": "stdout",
     "output_type": "stream",
     "text": [
      "[1, 6]\n"
     ]
    }
   ],
   "source": [
    "import numpy as np\n",
    "A = [[7,1,5,6],[2,6,1,1],[6,1,7,2],[6,6,3,1],[5,5,6,1],[3,6,7,1]]\n",
    "A = np.array(A)\n",
    "def common_mat_ele(A,rows = True):\n",
    "    common = set()\n",
    "    if rows:\n",
    "        for element in A[0]:\n",
    "            common.add(element)\n",
    "        for row in A:\n",
    "            check = set()\n",
    "            for col in row:\n",
    "                check.add(col)\n",
    "            common.intersection_update(check)\n",
    "    if rows == False:\n",
    "        for row in A:\n",
    "            common.add(row[0])\n",
    "        for col in range(len(A[0])):\n",
    "            check = set()\n",
    "            for row in range(len(A)):\n",
    "                check.add(A[row][col])\n",
    "            common.intersection_update(check)\n",
    "    return list(common)\n",
    "\n",
    "print(common_mat_ele(A,rows=True))\n",
    "\n",
    "\n",
    "\n"
   ]
  },
  {
   "attachments": {},
   "cell_type": "markdown",
   "metadata": {},
   "source": [
    "Problem 2"
   ]
  },
  {
   "cell_type": "code",
   "execution_count": 154,
   "metadata": {},
   "outputs": [
    {
     "name": "stdout",
     "output_type": "stream",
     "text": [
      "Error\n",
      "2.23606797749979\n",
      "(1, 2, 0)\n",
      "P1 > P2: False\n",
      "P1 < P2: True\n",
      "P1 <= P2: True\n",
      "P1 >= P2: False\n",
      "P1 == P2: False\n",
      "Subtraction: (-2, -2, 0)\n",
      "Miltiplication: (4, 8, 0)\n",
      "{'x': 1, 'y': 2, 'z': 0}\n"
     ]
    }
   ],
   "source": [
    "class point:\n",
    "    def __init__(self, x_cord,y_cord,z_cord = 0):\n",
    "        self.x_cord = x_cord\n",
    "        self.y_cord = y_cord\n",
    "        self.z_cord = z_cord\n",
    "        self._r = ((x_cord)**2 + (y_cord)**2 + (z_cord)**2)**0.5\n",
    "\n",
    "    @property\n",
    "    def r(self):\n",
    "        return self._r\n",
    "    \n",
    "    def __str__(self):\n",
    "        return f'{(self.x_cord,self.y_cord,self.z_cord)}'\n",
    "    def __sub__(self,other):\n",
    "        if isinstance(other,point):\n",
    "            return point(self.x_cord-other.x_cord,self.y_cord-other.y_cord,self.z_cord-other.z_cord)\n",
    "    def __isub__(self,other):\n",
    "        if isinstance(other,point):\n",
    "            return point(self.x_cord-other.x_cord,self.y_cord-other.y_cord,self.z_cord-other.z_cord)\n",
    "    def __mul__(self,other):\n",
    "        if isinstance(other,int) or isinstance(other,float):\n",
    "            return point(self.x_cord * other,self.y_cord * other,self.z_cord * other)\n",
    "    def __imul__(self,other):\n",
    "        if isinstance(other,int) or isinstance(other,float):\n",
    "            return point(self.x_cord * other,self.y_cord * other,self.z_cord * other)\n",
    "    def asdict(self):\n",
    "        dic = {'x':self.x_cord,'y':self.y_cord,'z':self.z_cord}\n",
    "        return dic\n",
    "    def __lt__(self,other):\n",
    "        if isinstance(other,point):\n",
    "            return self.r < other.r\n",
    "    def __eq__(self,other):\n",
    "        if isinstance(other,point):\n",
    "            return self.r == other.r\n",
    "    def __le__(self,other):\n",
    "            if self < other or self == other:\n",
    "                return True\n",
    "            else:\n",
    "                return False\n",
    "    def __gt__(self, other):\n",
    "        if self < other:\n",
    "            return False\n",
    "        else:\n",
    "            return True\n",
    "    def __ge__(self,other):\n",
    "        if self <= other:\n",
    "            return False\n",
    "        else:\n",
    "            return True\n",
    "\n",
    "p1 = point(1,2)\n",
    "p2 = point(3,4)\n",
    "try:\n",
    "    p1.r = 5\n",
    "except:\n",
    "    print('Error')\n",
    "# did not assign new value\n",
    "print(p1.r)\n",
    "# String method\n",
    "print(p1)\n",
    "# comparsion operators \n",
    "print(f'P1 > P2: {p1 > p2}')\n",
    "print(f'P1 < P2: {p1 < p2}')\n",
    "print(f'P1 <= P2: {p1 <= p2}')\n",
    "print(f'P1 >= P2: {p1 >= p2}')\n",
    "print(f'P1 == P2: {p1 == p2}')\n",
    "print(f'Subtraction: {p1-p2}')\n",
    "print(f'Multiplication: {p1*4}')\n",
    "print(p1.asdict())\n"
   ]
  },
  {
   "attachments": {},
   "cell_type": "markdown",
   "metadata": {},
   "source": [
    "Problem 3"
   ]
  },
  {
   "cell_type": "code",
   "execution_count": 156,
   "metadata": {},
   "outputs": [
    {
     "name": "stdout",
     "output_type": "stream",
     "text": [
      "5\n",
      "4\n",
      "Error from negative assignment\n"
     ]
    },
    {
     "data": {
      "image/png": "[encoded data removed]",
      "text/plain": [
       "<Figure size 400x400 with 1 Axes>"
      ]
     },
     "metadata": {},
     "output_type": "display_data"
    }
   ],
   "source": [
    "class circle:\n",
    "    def __init__(self,points,radius):\n",
    "        self.point = self.pointy(points)\n",
    "        self._radius = radius\n",
    "\n",
    "    def pointy(self,points):\n",
    "        if isinstance(points,point):\n",
    "            self.point = points\n",
    "            return points\n",
    "        else:\n",
    "            raise ValueError\n",
    "    @property\n",
    "    def radius(self):\n",
    "        return self._radius\n",
    "    \n",
    "    @radius.setter\n",
    "    def radius(self,other):\n",
    "        if other > 0:\n",
    "            self._radius = other\n",
    "        else:\n",
    "            raise ValueError\n",
    "    \n",
    "    def draw(self):\n",
    "        import matplotlib.pyplot as plt\n",
    "        import numpy as np\n",
    "        theta = np.linspace(0,2 * np.pi,150)\n",
    "        a = self.radius * np.cos(theta) + self.point.x_cord\n",
    "        b = self.radius * np.sin(theta) + self.point.y_cord\n",
    "        plt.figure(figsize=(4,4))\n",
    "        plt.plot(a,b,'r')\n",
    "        plt.grid()\n",
    "        plt.title(f\"Figure 1. Plot of a circle with radius: {self.radius} and center: {self.point}\")\n",
    "        plt.xlabel('x axis')\n",
    "        plt.ylabel('y axis')\n",
    "        plt.legend([f'Circle of r: {5} and c: {self.point}'])\n",
    "        plt.text(0.5,0.5,s=f'(x-{self.point.x_cord})^2 + (y-{self.point.y_cord})^2 = {self.radius}^2')\n",
    "        plt.tight_layout()\n",
    "\n",
    "\n",
    "c1 = circle(point(1,2),5)\n",
    "print(c1.radius)\n",
    "c1.radius = 4\n",
    "print(c1.radius)\n",
    "try:\n",
    "    c1.radius = -4\n",
    "except:\n",
    "    print(\"Error from negative assignment\")\n",
    "c1.draw()\n",
    "\n",
    "        "
   ]
  },
  {
   "cell_type": "markdown",
   "metadata": {},
   "source": [
    "Problem 4"
   ]
  },
  {
   "cell_type": "code",
   "execution_count": 114,
   "metadata": {},
   "outputs": [
    {
     "name": "stdout",
     "output_type": "stream",
     "text": [
      "Sphere 1: The volume of the sphere centered at (1, 4, 2) with radius 4 is equal to 268.08 units cubed. \n",
      "Sphere 2: The volume of the sphere centered at (2, 0, 1) with radius 4 is equal to 268.08 units cubed. \n",
      "Sphere 3: The volume of the sphere centered at (5, 3, 3) with radius 3 is equal to 113.10 units cubed. \n",
      "Sphere 4: The volume of the sphere centered at (3, 1, 3) with radius 5 is equal to 523.60 units cubed. \n",
      "Sphere 5: The volume of a sphere centered at the origin with rdaius 7 is equal to 1436.76. \n",
      "Sphere 6: The volume of a sphere centered at the origin with rdaius 8 is equal to 2144.66. \n"
     ]
    }
   ],
   "source": [
    "import random\n",
    "class Sphere:\n",
    "    def __init__(self,points,radius):\n",
    "        self.points = self.point(points)\n",
    "        self._radius = radius\n",
    "\n",
    "    def point(self,other):\n",
    "         if isinstance(other,point):\n",
    "             self.points = other\n",
    "             return other \n",
    "         else: \n",
    "             raise ValueError\n",
    "    def __str__(self):\n",
    "        return f'The volume of the sphere centered at {self.points} with radius {self.radius} is equal to {self.vol} units cubed'\n",
    "    @property\n",
    "    def radius(self):\n",
    "        return self._radius \n",
    "    @radius.setter\n",
    "    def radius(self,other):\n",
    "        if other > 0:\n",
    "            self._radius = other\n",
    "        else:\n",
    "            raise ValueError\n",
    "    \n",
    "    @property\n",
    "    def vol(self):\n",
    "        return f'{(4/3) * self.radius ** 3 * 3.1415926:5.2f}'\n",
    "\n",
    "        \n",
    "    \n",
    "class CenteredSphere(Sphere):\n",
    "    def __init__(self,radius):\n",
    "        self.points = self.point(point(0,0,0))\n",
    "        self._radius = radius \n",
    "    def __str__(self):\n",
    "        return f'The volume of a sphere centered at the origin with radius {self.radius} is equal to {self.vol}'\n",
    "    \n",
    "\n",
    "listy_sphere = [Sphere(point(random.randint(0,5),random.randint(0,5),random.randint(0,5)),random.randint(1,5)) for _ in range(4)]\n",
    "listy_centered_sphere = [CenteredSphere(random.randint(5,10)) for _ in range(2)]\n",
    "listy_sphere += listy_centered_sphere\n",
    "\n",
    "count = 1\n",
    "for spheres in listy_sphere:\n",
    "    print(f\"Sphere {count}\",end=\": \")\n",
    "    print(spheres,end='. \\n')\n",
    "    count+=1"
   ]
  }
 ],
 "metadata": {
  "kernelspec": {
   "display_name": "Python 3",
   "language": "python",
   "name": "python3"
  },
  "language_info": {
   "codemirror_mode": {
    "name": "ipython",
    "version": 3
   },
   "file_extension": ".py",
   "mimetype": "text/x-python",
   "name": "python",
   "nbconvert_exporter": "python",
   "pygments_lexer": "ipython3",
   "version": "3.11.3"
  },
  "orig_nbformat": 4
 },
 "nbformat": 4,
 "nbformat_minor": 2
}
